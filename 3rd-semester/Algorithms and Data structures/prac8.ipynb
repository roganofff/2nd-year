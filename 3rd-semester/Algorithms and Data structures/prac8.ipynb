{
 "cells": [
  {
   "cell_type": "markdown",
   "metadata": {},
   "source": [
    "Given an undirected graph with no self loops with V (from 0 to V-1) nodes and E edges, the task is to check if there is any cycle in the undirected graph.\n",
    "\n",
    "Note: Solve the problem using disjoint set union (DSU).\n",
    "\n",
    "Example 1:\n",
    "\n",
    "Input: \n",
    "\n",
    "Output: 1\n",
    "Explanation: There is a cycle between 0->2->4->0\n",
    "\n",
    "Example 2:\n",
    "\n",
    "Input: \n",
    "\n",
    "Output: 0\n",
    "Explanation: The graph doesn't contain any cycle\n",
    "\n",
    "Your Task:\n",
    "You don't need to read or print anyhting. Your task is to complete the function detectCycle() which takes number of vertices in the graph denoting as V and adjacency list adj and returns 1 if graph contains any cycle otherwise returns 0.\n",
    "\n",
    "Expected Time Complexity: O(V + E)\n",
    "Expected Space Complexity: O(V)\n",
    "\n",
    "Constraints:\n",
    "2 ≤ V ≤ 104\n",
    "1 ≤ E ≤ 104\n"
   ]
  },
  {
   "cell_type": "code",
   "execution_count": 4,
   "metadata": {},
   "outputs": [],
   "source": [
    "class DisjSet:\n",
    "    def __init__(self, n) -> None:\n",
    "        self.rank = [1] * n\n",
    "        self.parent = [i for i in range(n)]\n",
    "\n",
    "    def find(self, x):\n",
    "        if self.parent[x] != x:\n",
    "            self.parent[x] = self.find(self.parent[x])\n",
    "        return self.parent[x]\n",
    "\n",
    "    def union(self, x, y):\n",
    "        xset = self.find(x)\n",
    "        yset = self.find(y)\n",
    "        if xset == yset:\n",
    "            return\n",
    "\n",
    "        if self.rank[xset] < self.rank[yset]:\n",
    "            self.parent[xset] = yset\n",
    "        elif self.rank[xset] > self.rank[yset]:\n",
    "            self.parent[yset] = yset\n",
    "        else:\n",
    "            self.parent[yset] = xset\n",
    "            self.rank[xset] = self.rank[xset] + 1\n",
    "\n",
    "class Solution:\n",
    "    def detectCycle(self, V, adj):\n",
    "        dsu = DisjSet(V)\n",
    "        E = set()   \n",
    "        for i in range(V):\n",
    "            for j in adj[i]:\n",
    "                if (i, j) not in E and (j, i) not in E:\n",
    "                    if dsu.union(i, j):\n",
    "                        print('Cycle')\n",
    "                    E.add((i, j))"
   ]
  },
  {
   "cell_type": "code",
   "execution_count": 5,
   "metadata": {},
   "outputs": [
    {
     "name": "stdout",
     "output_type": "stream",
     "text": [
      "None\n"
     ]
    }
   ],
   "source": [
    "V = 5\n",
    "adj = [[2, 3, 4],\n",
    "       [3],\n",
    "       [0, 4],\n",
    "       [0, 1],\n",
    "       [0, 2]]\n",
    "\n",
    "print(Solution().detectCycle(V, adj))"
   ]
  },
  {
   "cell_type": "code",
   "execution_count": 8,
   "metadata": {},
   "outputs": [],
   "source": [
    "class DisjSet:\n",
    "    def __init__(self, n) -> None:\n",
    "        self.rank = [1] * n\n",
    "        self.parent = [i for i in range(n)]\n",
    "\n",
    "    def find(self, x):\n",
    "        if self.parent[x] != x:\n",
    "            self.parent[x] = self.find(self.parent[x])\n",
    "        return self.parent[x]\n",
    "\n",
    "    def union(self, x, y):\n",
    "        xset = self.find(x)\n",
    "        yset = self.find(y)\n",
    "        if xset == yset:\n",
    "            return\n",
    "\n",
    "        if self.rank[xset] < self.rank[yset]:\n",
    "            self.parent[xset] = yset\n",
    "        elif self.rank[xset] > self.rank[yset]:\n",
    "            self.parent[yset] = yset\n",
    "        else:\n",
    "            self.parent[yset] = xset\n",
    "            self.rank[xset] = self.rank[xset] + 1\n",
    "\n",
    "class Solution2:\n",
    "    def spanningTree(self, V, adj):\n",
    "        dsu = DisjSet(V)\n",
    "        E = set()   \n",
    "        sum = 0\n",
    "        for i in range(V):\n",
    "            for j in adj[i]:\n",
    "                if (i, j) not in E and (j, i) not in E:\n",
    "                    if dsu.union(i, j):\n",
    "                        break\n",
    "                    E.add((i, j))\n",
    "                    sum += j"
   ]
  },
  {
   "cell_type": "code",
   "execution_count": 9,
   "metadata": {},
   "outputs": [
    {
     "ename": "TypeError",
     "evalue": "unhashable type: 'list'",
     "output_type": "error",
     "traceback": [
      "\u001b[1;31m---------------------------------------------------------------------------\u001b[0m",
      "\u001b[1;31mTypeError\u001b[0m                                 Traceback (most recent call last)",
      "\u001b[1;32mc:\\Users\\roganov.y\\OneDrive\\Desktop\\2nd year\\Algorithms and Data structures\\prac8.ipynb Cell 5\u001b[0m line \u001b[0;36m5\n\u001b[0;32m      <a href='vscode-notebook-cell:/c%3A/Users/roganov.y/OneDrive/Desktop/2nd%20year/Algorithms%20and%20Data%20structures/prac8.ipynb#W4sZmlsZQ%3D%3D?line=0'>1</a>\u001b[0m V \u001b[39m=\u001b[39m \u001b[39m3\u001b[39m\n\u001b[0;32m      <a href='vscode-notebook-cell:/c%3A/Users/roganov.y/OneDrive/Desktop/2nd%20year/Algorithms%20and%20Data%20structures/prac8.ipynb#W4sZmlsZQ%3D%3D?line=1'>2</a>\u001b[0m adj \u001b[39m=\u001b[39m [[[\u001b[39m1\u001b[39m, \u001b[39m5\u001b[39m], [\u001b[39m2\u001b[39m, \u001b[39m1\u001b[39m]],\n\u001b[0;32m      <a href='vscode-notebook-cell:/c%3A/Users/roganov.y/OneDrive/Desktop/2nd%20year/Algorithms%20and%20Data%20structures/prac8.ipynb#W4sZmlsZQ%3D%3D?line=2'>3</a>\u001b[0m        [[\u001b[39m0\u001b[39m, \u001b[39m5\u001b[39m], [\u001b[39m2\u001b[39m, \u001b[39m3\u001b[39m]],\n\u001b[0;32m      <a href='vscode-notebook-cell:/c%3A/Users/roganov.y/OneDrive/Desktop/2nd%20year/Algorithms%20and%20Data%20structures/prac8.ipynb#W4sZmlsZQ%3D%3D?line=3'>4</a>\u001b[0m        [[\u001b[39m1\u001b[39m, \u001b[39m3\u001b[39m], [\u001b[39m0\u001b[39m, \u001b[39m1\u001b[39m]]]\n\u001b[1;32m----> <a href='vscode-notebook-cell:/c%3A/Users/roganov.y/OneDrive/Desktop/2nd%20year/Algorithms%20and%20Data%20structures/prac8.ipynb#W4sZmlsZQ%3D%3D?line=4'>5</a>\u001b[0m \u001b[39mprint\u001b[39m(Solution2()\u001b[39m.\u001b[39;49mspanningTree(V, adj))\n",
      "\u001b[1;32mc:\\Users\\roganov.y\\OneDrive\\Desktop\\2nd year\\Algorithms and Data structures\\prac8.ipynb Cell 5\u001b[0m line \u001b[0;36m3\n\u001b[0;32m     <a href='vscode-notebook-cell:/c%3A/Users/roganov.y/OneDrive/Desktop/2nd%20year/Algorithms%20and%20Data%20structures/prac8.ipynb#W4sZmlsZQ%3D%3D?line=29'>30</a>\u001b[0m \u001b[39mfor\u001b[39;00m i \u001b[39min\u001b[39;00m \u001b[39mrange\u001b[39m(V):\n\u001b[0;32m     <a href='vscode-notebook-cell:/c%3A/Users/roganov.y/OneDrive/Desktop/2nd%20year/Algorithms%20and%20Data%20structures/prac8.ipynb#W4sZmlsZQ%3D%3D?line=30'>31</a>\u001b[0m     \u001b[39mfor\u001b[39;00m j \u001b[39min\u001b[39;00m adj[i]:\n\u001b[1;32m---> <a href='vscode-notebook-cell:/c%3A/Users/roganov.y/OneDrive/Desktop/2nd%20year/Algorithms%20and%20Data%20structures/prac8.ipynb#W4sZmlsZQ%3D%3D?line=31'>32</a>\u001b[0m         \u001b[39mif\u001b[39;00m (i, j) \u001b[39mnot\u001b[39;49;00m \u001b[39min\u001b[39;49;00m E \u001b[39mand\u001b[39;00m (j, i) \u001b[39mnot\u001b[39;00m \u001b[39min\u001b[39;00m E:\n\u001b[0;32m     <a href='vscode-notebook-cell:/c%3A/Users/roganov.y/OneDrive/Desktop/2nd%20year/Algorithms%20and%20Data%20structures/prac8.ipynb#W4sZmlsZQ%3D%3D?line=32'>33</a>\u001b[0m             \u001b[39mif\u001b[39;00m dsu\u001b[39m.\u001b[39munion(i, j):\n\u001b[0;32m     <a href='vscode-notebook-cell:/c%3A/Users/roganov.y/OneDrive/Desktop/2nd%20year/Algorithms%20and%20Data%20structures/prac8.ipynb#W4sZmlsZQ%3D%3D?line=33'>34</a>\u001b[0m                 \u001b[39mbreak\u001b[39;00m\n",
      "\u001b[1;31mTypeError\u001b[0m: unhashable type: 'list'"
     ]
    }
   ],
   "source": [
    "V = 3\n",
    "adj = [[[1, 5], [2, 1]],\n",
    "       [[0, 5], [2, 3]],\n",
    "       [[1, 3], [0, 1]]]\n",
    "print(Solution2().spanningTree(V, adj))"
   ]
  }
 ],
 "metadata": {
  "kernelspec": {
   "display_name": "Python 3",
   "language": "python",
   "name": "python3"
  },
  "language_info": {
   "codemirror_mode": {
    "name": "ipython",
    "version": 3
   },
   "file_extension": ".py",
   "mimetype": "text/x-python",
   "name": "python",
   "nbconvert_exporter": "python",
   "pygments_lexer": "ipython3",
   "version": "3.11.6"
  }
 },
 "nbformat": 4,
 "nbformat_minor": 2
}
