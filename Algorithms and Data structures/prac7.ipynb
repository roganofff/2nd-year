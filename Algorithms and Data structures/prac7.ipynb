{
 "cells": [
  {
   "cell_type": "code",
   "execution_count": 3,
   "metadata": {},
   "outputs": [
    {
     "name": "stdout",
     "output_type": "stream",
     "text": [
      "[0, 1, inf]\n",
      "[1, 0, 2]\n",
      "[inf, 2, 0]\n",
      "\n",
      "[0, 1, 3]\n",
      "[1, 0, 2]\n",
      "[3, 2, 0]\n",
      "\n"
     ]
    },
    {
     "data": {
      "text/plain": [
       "3"
      ]
     },
     "execution_count": 3,
     "metadata": {},
     "output_type": "execute_result"
    }
   ],
   "source": [
    "def t1(n, m, edges):\n",
    "    dist = [[float('inf')] * n for _ in range(n)]\n",
    "    for s, e, l in edges:\n",
    "        dist[s-1][e-1] = l\n",
    "        dist[e-1][s-1] = l\n",
    "    for i in range(n):\n",
    "        dist[i][i] = 0\n",
    "    print(*dist, sep='\\n', end='\\n\\n')\n",
    "\n",
    "    for k in range(n):\n",
    "        for i in range(n):\n",
    "            for j in range(n):\n",
    "                dist[i][j] = min(dist[i][j], dist[i][k] + dist[k][j])\n",
    "    print(*dist, sep='\\n', end='\\n\\n')\n",
    "\n",
    "    ans = 0\n",
    "    for i in range(n):\n",
    "        for j in range(i+1, n):\n",
    "            if dist[i][j] != float('inf'):\n",
    "                ans = max(ans, dist[i][j])\n",
    "\n",
    "    return ans\n",
    "\n",
    "N = 3\n",
    "M = 2\n",
    "edges = [[1, 2, 1],\n",
    "         [2, 3, 2]]\n",
    "\n",
    "t1(N, M, edges)"
   ]
  },
  {
   "cell_type": "code",
   "execution_count": 9,
   "metadata": {},
   "outputs": [
    {
     "data": {
      "text/plain": [
       "0.36"
      ]
     },
     "execution_count": 9,
     "metadata": {},
     "output_type": "execute_result"
    }
   ],
   "source": [
    "def t2(n, m, s, e, edges):\n",
    "    adjList = {i:[] for i in range(1, n+1)}\n",
    "    for v, u, l in edges:\n",
    "        adjList[v].append((u, l / 100))\n",
    "        adjList[u].append((v, l / 100))\n",
    "\n",
    "    dist = [float('inf')] * n\n",
    "    dist[s-1] = 0\n",
    "    \n",
    "    used = [0] * n\n",
    "\n",
    "    while True:\n",
    "        v = None\n",
    "        min_d = float('inf')\n",
    "        for i in range(n):\n",
    "            if dist[i] != float('inf') and not used[i] and min_d > dist[i]:\n",
    "                v = i + 1\n",
    "                min_d = dist[i]\n",
    "        if v is None:\n",
    "            break\n",
    "\n",
    "        used[v-1] = 1\n",
    "        for u, w in adjList[v]:\n",
    "            if dist[v-1] + w - dist[v-1] * w < dist[u-1]:\n",
    "                dist[u-1] = dist[v-1] + w - dist[v-1] * w\n",
    "\n",
    "    return dist[e-1] \n",
    "\n",
    "\n",
    "N = 3\n",
    "M = 3\n",
    "S = 1\n",
    "E = 3\n",
    "edges = [[1, 2, 20],\n",
    "         [1, 3, 50],\n",
    "         [2, 3, 20]]\n",
    "t2(N, M, S, E, edges)"
   ]
  }
 ],
 "metadata": {
  "kernelspec": {
   "display_name": "Python 3",
   "language": "python",
   "name": "python3"
  },
  "language_info": {
   "codemirror_mode": {
    "name": "ipython",
    "version": 3
   },
   "file_extension": ".py",
   "mimetype": "text/x-python",
   "name": "python",
   "nbconvert_exporter": "python",
   "pygments_lexer": "ipython3",
   "version": "3.11.6"
  }
 },
 "nbformat": 4,
 "nbformat_minor": 2
}
